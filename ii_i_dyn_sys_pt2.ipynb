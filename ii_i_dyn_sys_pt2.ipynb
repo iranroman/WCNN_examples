{
 "cells": [
  {
   "cell_type": "markdown",
   "metadata": {},
   "source": [
    "# 2.1.1 Dynamical Systems #\n",
    "\n",
    "## Equilibria of dynamical systems ##\n",
    "\n",
    "In order to discuss equilibria of dynamical systems, the canonical model of gradient frequency neural networks (Large, Almonte, & Velasco, 2010) is introduced. This model is simple and is poised at a Hopf bifurcation (thus has rich dynamical properties).  \n",
    "Under external periodic forcing, the canonical model of gradient frequency neural networks is (Kim & Large, 2015): \n",
    "  \n",
    "$$\\dot{z} = z\\bigg(\\alpha + i\\omega + \\beta_1 |z|^2 + \\frac{\\epsilon \\beta_2 |z|^4}{1-\\epsilon |z|^2}\\bigg) + Fe^{i \\omega_0 t}$$\n",
    "  \n",
    "where $Fe^{i \\omega_0 t}$ is a periodic input with force $F \\in \\mathbf{R}$. $\\omega$ and $\\omega_0$ are the radian frequency of oscillation for the system and the external input, respectively. z is a complex state variable containing instantaneous amplitude and phase information ($z = re^{i\\phi}$), and the parameters that determine the dynamical properties of the oscillator are $\\alpha$, $\\beta_1$, $\\beta_2$, $\\epsilon$ $\\in \\mathbf{R}$.  \n",
    "\n",
    "The system in polar coordinates becomes: \n",
    "\n",
    "$$    \n",
    "    \\left\\{\n",
    "        \\begin{array}{ll}\n",
    "            \\dot{r} = \\alpha r + \\beta_1 r^3 + \\frac{\\epsilon \\beta_2 r^5}{1-\\epsilon r^2} + F \\cos(\\psi)\\\\\n",
    "            \\dot{\\psi} = \\Omega - \\frac{F}{r}\\sin(\\psi)\\\\\n",
    "        \\end{array}\n",
    "    \\right.\n",
    "$$\n",
    "\n",
    "Where $\\Omega = \\omega - \\omega_0$ and $\\psi = \\phi - \\omega_o t$  ($\\phi$ is the angle of the initial state of the system).  \n",
    "  \n",
    "To understand the behavior of the system in its equilibrium points, the Jacobian matrix for the steady state $r^{*}$ $(\\dot{r} = 0)$ must be calculated:\n",
    "  \n",
    "$$ L = D_xF = \\bigg( \\frac{\\delta F_i}{\\delta X_j} \\bigg)_{i,j=1,...,m} = \n",
    "    \\left\\{\n",
    "        \\begin{array}{ll}\n",
    "            \\frac{\\delta \\dot{r}}{\\delta r} & \\frac{\\delta \\dot{r}}{\\delta \\psi}\\\\\n",
    "            \\frac{\\delta \\dot{\\psi}}{\\delta r} & \\frac{\\delta \\dot{\\psi}}{\\delta \\psi}\\\\\n",
    "        \\end{array}\n",
    "    \\right.\n",
    "    = \\\\\n",
    "    \\left\\{\n",
    "        \\begin{array}{ll}\n",
    "            \\alpha + 3\\beta_1 r^{*2} + \\frac{\\epsilon \\beta_2 r^{*4}(5-3\\epsilon r^{*2})}{(1-\\epsilon r^{*2})^2} & -F\\sin(\\psi^{*})\\\\\n",
    "            \\frac{F}{r^{*2}}\\sin(\\psi^{*}) & -\\frac{F}{r^{*}}\\cos(\\psi^{*})\\\\\n",
    "        \\end{array}\n",
    "    \\right.\n",
    "$$\n",
    "  \n",
    "The following program computes the Jacobian matrix symbolically:"
   ]
  },
  {
   "cell_type": "code",
   "execution_count": 1,
   "metadata": {
    "collapsed": false
   },
   "outputs": [
    {
     "name": "stdout",
     "output_type": "stream",
     "text": [
      "The Jacobian Matrix is:\n",
      "(a + 3*b_1*r_star**2 + 2*b_2*epsilon**2*r_star**6/(-epsilon*r_star**2 + 1)**2 + 5*b_2*epsilon*r_star**4/(-epsilon*r_star**2 + 1), -F*sin(psi_star))\n",
      "(F*sin(psi_star)/r_star**2, -F*cos(psi_star)/r_star)\n"
     ]
    }
   ],
   "source": [
    "import sympy as sp\n",
    "\n",
    "# define the system:\n",
    "r_star, psi_star, a, b_1, b_2, epsilon, Omega, F = sp.symbols('r_star, psi_star, a, b_1, b_2, epsilon, Omega, F')\n",
    "R = a*r_star + b_1*r_star**3 + (epsilon*b_2*r_star**5)*(1-epsilon*r_star**2)**(-1) + F*sp.cos(psi_star)\n",
    "P = Omega - ((F)*(r_star)**(-1))*sp.sin(psi_star)\n",
    "\n",
    "# set equations to zero\n",
    "R_star = sp.Eq(R, 0)\n",
    "C_star = sp.Eq(P, 0)\n",
    "\n",
    "# compute the Jacobian-matrix  \n",
    "J = sp.Matrix([ R, P ]).jacobian(sp.Matrix([ r_star, psi_star ]))\n",
    "print('The Jacobian Matrix is:')\n",
    "print(J[0,0], J[0,1])\n",
    "print(J[1,0], J[1,1])"
   ]
  },
  {
   "cell_type": "markdown",
   "metadata": {},
   "source": [
    "### Example 1 ###\n",
    "\n",
    "However, to carry out a thorough analysis of the system's equilibra, we must consider cases where the parameters $\\alpha$, $\\beta_1$, $\\beta_2$, $\\epsilon$, $F$ and $\\Omega$ are defined. Take as an example the case of the system at a limit-cycle, where $\\alpha = 1$, $\\beta_1 = -100$, $\\beta_2 = 0$, $\\epsilon = 0$, $F=0.02$ and $\\Omega = 0$"
   ]
  },
  {
   "cell_type": "code",
   "execution_count": 2,
   "metadata": {
    "collapsed": false
   },
   "outputs": [
    {
     "name": "stdout",
     "output_type": "stream",
     "text": [
      "The Jacobian Matrix is:\n",
      "(-300*r_star**2 + 1, -0.02*sin(psi_star))\n",
      "(0.02*sin(psi_star)/r_star**2, -0.02*cos(psi_star)/r_star)\n"
     ]
    }
   ],
   "source": [
    "# parameters for the system at a limit-cycle\n",
    "a = 1\n",
    "b_1 = -100\n",
    "b_2 = 0\n",
    "epsilon = 0\n",
    "omega = 1.0*2*sp.pi\n",
    "omega_0 = 1.0*2*sp.pi\n",
    "Omega = omega - omega_0\n",
    "F = 0.02\n",
    "\n",
    "# define the system:\n",
    "r_star, psi_star = sp.symbols('r_star, psi_star')\n",
    "R = a*r_star + b_1*r_star**3 + (epsilon*b_2*r_star**5)*(1-epsilon*r_star**2)**(-1) + F*sp.cos(psi_star)\n",
    "P = Omega - ((F)*(r_star)**(-1))*sp.sin(psi_star)\n",
    "\n",
    "# set equations to zero\n",
    "R_star = sp.Eq(R, 0)\n",
    "C_star = sp.Eq(P, 0)\n",
    "\n",
    "# compute the Jacobian-matrix \n",
    "J = sp.Matrix([ R, P ]).jacobian(sp.Matrix([ r_star, psi_star ]))\n",
    "print('The Jacobian Matrix is:')\n",
    "print(J[0,0], J[0,1])\n",
    "print(J[1,0], J[1,1])"
   ]
  },
  {
   "cell_type": "code",
   "execution_count": 3,
   "metadata": {
    "collapsed": false
   },
   "outputs": [
    {
     "name": "stdout",
     "output_type": "stream",
     "text": [
      "The equilibrium point r_star = -0.108803391469129 + 0.e-22*I, psi_star = 3.14159265358979 has eigenvalues -2976067829382584480131707147975676648101067/2176067829382580000000000000000000000000000 - 3*sqrt(3635505317810124507006023460843511079190280526953533851857864806922447684912942817415200949563286610990881761)/4831909385789605409371436180000000000000000000000000000 and -2976067829382584480131707147975676648101067/2176067829382580000000000000000000000000000 + 3*sqrt(3635505317810124507006023460843511079190280526953533851857864806922447684912942817415200949563286610990881761)/4831909385789605409371436180000000000000000000000000000. The determinant is 2.76480172042079e-22*I/(-0.108803391469129 + 0.e-22*I) + 5.99903913064743e-36/(0.0118381779951845 - 4.60800286736798e-23*I) - 0.0510290679711071/(-0.108803391469129 + 0.e-22*I)\n",
      "The equilibrium point r_star = -0.0878885066249973 + 0.e-22*I, psi_star = 0.0 has eigenvalues -1317316879031658287806767502187/1000000000000000000000000000000 and 200000000000000/878885066249973. The determinant is 0.0263463375806331/(-0.0878885066249973 + 0.e-22*I) - 4.46666764778103e-22*I/(-0.0878885066249973 + 0.e-22*I)\n",
      "The equilibrium point r_star = -0.0209148848441317 + 0.e-22*I, psi_star = 0.0 has eigenvalues 868770277587013034498821916533/1000000000000000000000000000000 and 200000000000000/209148848441317. The determinant is -1.06293579306055e-22*I/(-0.0209148848441317 + 0.e-22*I) - 0.0173754055517403/(-0.0209148848441317 + 0.e-22*I)\n",
      "The equilibrium point r_star = 0.0209148848441317 + 0.e-24*I, psi_star = 3.14159265358979 has eigenvalues -sqrt(202394754744508961013200116370206282334416524223556783376482614912967530219865542660673667854526966770482283329)/325228556166014784389536762000000000000000000000000000000 + 381702303117367088520280692545945695722593961/418297696882634000000000000000000000000000000 and sqrt(202394754744508961013200116370206282334416524223556783376482614912967530219865542660673667854526966770482283329)/325228556166014784389536762000000000000000000000000000000 + 381702303117367088520280692545945695722593961/418297696882634000000000000000000000000000000. The determinant is 0.0173754055517403/(0.0209148848441317 + 0.e-24*I) - 4.15209294164277e-25*I/(0.0209148848441317 + 0.e-24*I) + 5.99903913064743e-36/(0.000437432408043288 + 6.92015490273794e-26*I)\n",
      "The equilibrium point r_star = 0.0878885066249973 + 0.e-22*I, psi_star = 3.14159265358979 has eigenvalues -sqrt(1953390827513442302633772565453704591741270530236135999225982105700410165236573661645627487359384035135833427096784401)/57217700716831068834735000054000000000000000000000000000000 - 957770132499946662570678568584197732166190951/1757770132499946000000000000000000000000000000 and -957770132499946662570678568584197732166190951/1757770132499946000000000000000000000000000000 + sqrt(1953390827513442302633772565453704591741270530236135999225982105700410165236573661645627487359384035135833427096784401)/57217700716831068834735000054000000000000000000000000000000. The determinant is -4.46666764778103e-22*I/(0.0878885066249973 + 0.e-22*I) + 5.99903913064743e-36/(0.00772438959677219 + 7.44444607963505e-23*I) - 0.0263463375806331/(0.0878885066249973 + 0.e-22*I)\n",
      "The equilibrium point r_star = 0.108803391469129 - 0.e-22*I, psi_star = 0.0 has eigenvalues -20000000000000/108803391469129 and -25514533985553599758880055923/10000000000000000000000000000. The determinant is -6.91200430105198e-23*I/(0.108803391469129 - 0.e-22*I) + 0.0510290679711071/(0.108803391469129 - 0.e-22*I)\n"
     ]
    }
   ],
   "source": [
    "# compute fixed points (this might take a while)\n",
    "eq_pts = sp.solve((R_star, C_star), r_star, psi_star, negative=False)\n",
    "\n",
    "# compute the eigenvalues\n",
    "for point in eq_pts:\n",
    "    ev_mat = J.subs([(r_star, point[0]),(psi_star, point[1])])\n",
    "    print('The equilibrium point r_star = %s, psi_star = %s has eigenvalues %s and %s. The determinant is %s' \n",
    "          %(point[0], point[1], ev_mat.eigenvals().keys()[0], ev_mat.eigenvals().keys()[1], ev_mat.det()))"
   ]
  },
  {
   "cell_type": "markdown",
   "metadata": {},
   "source": [
    "The eigenvalues shown above all have non-zero real parts, which makes the Jacobian be hyperbolic. For some of the equilibrium points, the Jacobian is hyperbolic stable (i.e. the real part is negative for all eigen values). An example of this is the last equilibrium point $r^{*} \\approx 0.109$ and $\\psi^{*} = 0.0$.  \n",
    "Moreover, none of them has a determinant equal to zero, which makes them nonsingular.  \n",
    "Finally, since the system seems to have equilibria that are hyperbolic stable, the system can be considered to be locally hyperbolic stable at these equilibria. However, as a cautionary note one should keep in mind that in a given system some equilibria may lead to Jacobian eigenvalues that are not hyperbolic stable."
   ]
  },
  {
   "cell_type": "markdown",
   "metadata": {},
   "source": [
    "### Example 2 ###\n",
    "The case of the Hopf bifurcatio can also be studied with the same system, but with parameters $\\alpha = 0$, $\\beta_1 = 0$, $\\beta_2 = 0$, $\\epsilon = 0$, $F=0$ and $\\Omega = 0$"
   ]
  },
  {
   "cell_type": "code",
   "execution_count": 4,
   "metadata": {
    "collapsed": false
   },
   "outputs": [
    {
     "name": "stdout",
     "output_type": "stream",
     "text": [
      "The Jacobian Matrix is:\n",
      "(0, -0.02*sin(psi_star))\n",
      "(0.02*sin(psi_star)/r_star**2, -0.02*cos(psi_star)/r_star)\n"
     ]
    }
   ],
   "source": [
    "# parameters for the system at a Hopf Bifurcation\n",
    "a = 0\n",
    "b_1 = 0\n",
    "b_2 = 0\n",
    "epsilon = 0\n",
    "omega = 1.0*2*sp.pi\n",
    "omega_0 = 0.98*2*sp.pi\n",
    "Omega = omega - omega_0\n",
    "F = 0.02\n",
    "\n",
    "# define the system:\n",
    "r_star, psi_star = sp.symbols('r_star, psi_star')\n",
    "R = a*r_star + b_1*r_star**3 + (epsilon*b_2*r_star**5)*(1-epsilon*r_star**2)**(-1) + F*sp.cos(psi_star)\n",
    "P = Omega - ((F)*(r_star)**(-1))*sp.sin(psi_star)\n",
    "\n",
    "# set equations to zero\n",
    "R_star = sp.Eq(R, 0)\n",
    "C_star = sp.Eq(P, 0)\n",
    "\n",
    "# compute the Jacobian-matrix \n",
    "J = sp.Matrix([ R, P ]).jacobian(sp.Matrix([ r_star, psi_star ]))\n",
    "print('The Jacobian Matrix is:')\n",
    "print(J[0,0], J[0,1])\n",
    "print(J[1,0], J[1,1])"
   ]
  },
  {
   "cell_type": "code",
   "execution_count": 5,
   "metadata": {
    "collapsed": false
   },
   "outputs": [
    {
     "name": "stdout",
     "output_type": "stream",
     "text": [
      "[(-0.159154943091895, 4.71238898038469), (0.159154943091895, 1.57079632679490)]\n",
      "The equilibrium point r_star = -0.159154943091895, psi_star = 4.71238898038469 has eigenvalues -46168096649323/4000000000000000000000000000000 - sqrt(252661872667887679999999999999997868506851778770380363641671)*I/4000000000000000000000000000000 and -46168096649323/4000000000000000000000000000000 + sqrt(252661872667887679999999999999997868506851778770380363641671)*I/4000000000000000000000000000000. The determinant is 0.0157913670417430\n",
      "The equilibrium point r_star = 0.159154943091895, psi_star = 1.57079632679490 has eigenvalues -192367069372179/50000000000000000000000000000000 - sqrt(39478417604357449999999999999999962994910621159272114780791959)*I/50000000000000000000000000000000 and -192367069372179/50000000000000000000000000000000 + sqrt(39478417604357449999999999999999962994910621159272114780791959)*I/50000000000000000000000000000000. The determinant is 0.0157913670417430\n"
     ]
    }
   ],
   "source": [
    "# compute fixed points (this might take a while)\n",
    "eq_pts = sp.solve((R_star, C_star), r_star, psi_star, negative=False)\n",
    "\n",
    "print eq_pts\n",
    "\n",
    "# compute the eigenvalues\n",
    "for point in eq_pts:\n",
    "    ev_mat = J.subs([(r_star, point[0]),(psi_star, point[1])])\n",
    "    print('The equilibrium point r_star = %s, psi_star = %s has eigenvalues %s and %s. The determinant is %s' \n",
    "          %(point[0], point[1], ev_mat.eigenvals().keys()[0], ev_mat.eigenvals().keys()[1], ev_mat.det()))"
   ]
  },
  {
   "cell_type": "markdown",
   "metadata": {},
   "source": [
    "If we disregard the error due to numerical approximation, we see that the eigenvalues for the Jacobian above are completely imaginary, which makes them non-hyperbolic. They are still non-singular, as the determinant of the Jacobian is not equal to zero."
   ]
  },
  {
   "cell_type": "code",
   "execution_count": null,
   "metadata": {
    "collapsed": true
   },
   "outputs": [],
   "source": []
  }
 ],
 "metadata": {
  "kernelspec": {
   "display_name": "Python 2",
   "language": "python",
   "name": "python2"
  },
  "language_info": {
   "codemirror_mode": {
    "name": "ipython",
    "version": 2
   },
   "file_extension": ".py",
   "mimetype": "text/x-python",
   "name": "python",
   "nbconvert_exporter": "python",
   "pygments_lexer": "ipython2",
   "version": "2.7.11"
  }
 },
 "nbformat": 4,
 "nbformat_minor": 0
}
