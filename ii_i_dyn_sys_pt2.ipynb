{
 "cells": [
  {
   "cell_type": "markdown",
   "metadata": {},
   "source": [
    "# 2.1.1 Dynamical Systems #\n",
    "\n",
    "## Equilibria of dynamical systems ##\n",
    "\n",
    "In order to discuss equilibria of dynamical systems, the canonical model of gradient frequency neural networks (Large, Almonte, & Velasco, 2010) is introduced. This model is simple, yet it is poised at a Hopf bifurcation, thus having rich dynamical properties.  \n",
    "Under external periodic forcing, the canonical model of gradient frequency neural networks is (Kim & Large, 2015): \n",
    "  \n",
    "$$\\dot{z} = z\\bigg(\\alpha + i\\omega + \\beta_1 |z|^2 + \\frac{\\epsilon \\beta_2 |z|^4}{1-\\epsilon |z|^2}\\bigg) + Fe^{i \\omega_0 t}$$\n",
    "  \n",
    "where $Fe^{i \\omega_0 t}$ is a periodic input with force $F \\in \\mathbf{R}$. $\\omega$ and $\\omega_0$ are the radian frequency of oscillation for the system and the external input, respectively. z is a complex state variable containing instantaneous amplitude and phase information ($z = re^{i\\phi}$), and the parameters that determine the dynamical properties of the oscillator are $\\alpha$, $\\beta_1$, $\\beta_2$, $\\epsilon$ $\\in \\mathbf{R}$.  \n",
    "\n",
    "The system in polar coordinates becomes: \n",
    "\n",
    "$$    \n",
    "    \\left\\{\n",
    "        \\begin{array}{ll}\n",
    "            \\dot{r} = \\alpha r + \\beta_1 r^3 + \\frac{\\epsilon \\beta_2 r^5}{1-\\epsilon r^2} + F \\cos(\\psi)\\\\\n",
    "            \\dot{\\psi} = \\Omega - \\frac{F}{r}\\sin(\\psi)\\\\\n",
    "        \\end{array}\n",
    "    \\right.\n",
    "$$\n",
    "\n",
    "Where $\\Omega = \\omega - \\omega_0$ and $\\psi = \\phi - \\omega_o t$  ($\\phi$ is the angle of the initial state of the system).  \n",
    "  \n",
    "To understand the behavior of the system in its equilibrium points, the Jacobian matrix for the steady state $r^{*}$ $(\\dot{r} = 0)$ must be calculated:\n",
    "$$ L = D_xF = \\bigg( \\frac{\\delta F_i}{\\delta X_j} \\bigg)_{i,j=1,...,m} = \n",
    "    \\left\\{\n",
    "        \\begin{array}{ll}\n",
    "            \\frac{\\delta \\dot{r}}{\\delta r} & \\frac{\\delta \\dot{r}}{\\delta \\psi}\\\\\n",
    "            \\frac{\\delta \\dot{\\psi}}{\\delta r} & \\frac{\\delta \\dot{\\psi}}{\\delta \\psi}\\\\\n",
    "        \\end{array}\n",
    "    \\right.\n",
    "    = \\\\\n",
    "    \\left\\{\n",
    "        \\begin{array}{ll}\n",
    "            \\alpha + 3\\beta_1 r^{*2} + \\frac{\\epsilon \\beta_2 r^{*4}(5-3\\epsilon r^{*2})}{(1-\\epsilon r^{*2})^2} & -F\\sin(\\psi^{*})\\\\\n",
    "            \\frac{F}{r^{*2}}\\sin(\\psi^{*}) & -\\frac{F}{r^{*}}\\cos(\\psi^{*})\\\\\n",
    "        \\end{array}\n",
    "    \\right.\n",
    "$$"
   ]
  },
  {
   "cell_type": "code",
   "execution_count": null,
   "metadata": {
    "collapsed": false
   },
   "outputs": [],
   "source": [
    "import sympy as sp\n",
    "\n",
    "# parameters for the system\n",
    "a = 0\n",
    "b_1 = -100\n",
    "b_2 = 0\n",
    "epsilon = 0\n",
    "omega = 1.0\n",
    "omega_0 = 0.5\n",
    "Omega = omega - omega_0\n",
    "F = 0.2\n",
    "\n",
    "# define the system:\n",
    "x, y = sp.symbols('x, y')\n",
    "R = a*x + b_1*x**3 + (epsilon*b_2*x**5)*(1-epsilon*x**2)**(-1) + F*sp.cos(y)\n",
    "P = Omega - ((F)*(x)**(-1))*sp.sin(y)\n",
    "\n",
    "# set equations to zero\n",
    "R_star = sp.Eq(R, 0)\n",
    "C_star = sp.Eq(P, 0)\n",
    "\n",
    "# compute fixed points\n",
    "eq_pts = sp.solve( (R_star, C_star), x, y )"
   ]
  },
  {
   "cell_type": "code",
   "execution_count": null,
   "metadata": {
    "collapsed": false
   },
   "outputs": [],
   "source": [
    "# compute the Jacobian-matrix  \n",
    "J = sp.Matrix([ R, P ]).jacobian(sp.Matrix([ x, y ]))\n",
    "print('The Jacobian Matrix is:')\n",
    "print(J)"
   ]
  },
  {
   "cell_type": "code",
   "execution_count": null,
   "metadata": {
    "collapsed": true
   },
   "outputs": [],
   "source": []
  }
 ],
 "metadata": {
  "kernelspec": {
   "display_name": "Python 2",
   "language": "python",
   "name": "python2"
  },
  "language_info": {
   "codemirror_mode": {
    "name": "ipython",
    "version": 2
   },
   "file_extension": ".py",
   "mimetype": "text/x-python",
   "name": "python",
   "nbconvert_exporter": "python",
   "pygments_lexer": "ipython2",
   "version": "2.7.11"
  }
 },
 "nbformat": 4,
 "nbformat_minor": 0
}
